{
 "cells": [
  {
   "cell_type": "code",
   "execution_count": 1,
   "metadata": {},
   "outputs": [],
   "source": [
    "%load_ext autoreload\n",
    "%autoreload 2\n",
    "%matplotlib inline"
   ]
  },
  {
   "cell_type": "code",
   "execution_count": 7,
   "metadata": {},
   "outputs": [],
   "source": [
    "import torch\n",
    "import torch.nn as nn\n",
    "from data import get_loaders\n",
    "from train import train, test, check_input\n",
    "import models \n",
    "from matplotlib import pyplot as plt"
   ]
  },
  {
   "cell_type": "code",
   "execution_count": 8,
   "metadata": {},
   "outputs": [],
   "source": [
    "def plot_instance(instance_id):\n",
    "    print('\\nExample: ')\n",
    "    print(train_loader.dataset.texts[instance_id])\n",
    "    print('\\nLabel Number: ')\n",
    "    print(train_loader.dataset.labels[instance_id])\n",
    "    print('\\nLabel String: ')\n",
    "    print(classes[train_loader.dataset.labels[instance_id]])"
   ]
  },
  {
   "cell_type": "code",
   "execution_count": 9,
   "metadata": {},
   "outputs": [],
   "source": [
    "classes = [\n",
    "'World',\n",
    "'Sports',\n",
    "'Business',\n",
    "'Sci/Tech',\n",
    "]"
   ]
  },
  {
   "cell_type": "code",
   "execution_count": 10,
   "metadata": {
    "scrolled": false
   },
   "outputs": [
    {
     "name": "stdout",
     "output_type": "stream",
     "text": [
      "Train size:  112400 112400\n",
      "Test size :  7600 7600\n",
      "\n",
      "Example: \n",
      "Computer Q amp;A: Tips on installing Windows XP SP2. It seems that Microsoft #39;s new upgrade to Windows is making some people nervous. That #39;s not surprising, as home and office computing environments are just not as friendly as they used to be due to viruses and spyware. Even the software we ...\n",
      "\n",
      "Label Number: \n",
      "3\n",
      "\n",
      "Label String: \n",
      "Sci/Tech\n",
      "\n",
      "Example: \n",
      "Ace performance by Thailand #39;s Thongchai at Mount Juliet. Thailand #39;s Thongchai Jaidee aced the 165-yard 11th hole in the WGC-American Express Championship second round on Friday. The 34-year-old former paratrooper used an eight \n",
      "\n",
      "Label Number: \n",
      "1\n",
      "\n",
      "Label String: \n",
      "Sports\n",
      "\n",
      "Example: \n",
      "Office Depot Won #39;t Meet Analysts #39; Earnings Estimates for 3 Qtr. Office Depot Inc., the world #39;s No. 2 office-supplies retailer, said it expects earnings per share for the third quarter to fall below current First Call estimates partly because of the recent Hurricanes in Florida.\n",
      "\n",
      "Label Number: \n",
      "2\n",
      "\n",
      "Label String: \n",
      "Business\n",
      "\n",
      "Example: \n",
      "Powell Appeals to Arafat to Step Aside.  NEW YORK (Reuters) - Secretary of State Colin Powell  appealed to Palestinian President Yasser Arafat on Thursday to  step aside for the sake of achieving his lifetime goal of a  Palestinian state.\n",
      "\n",
      "Label Number: \n",
      "0\n",
      "\n",
      "Label String: \n",
      "World\n"
     ]
    }
   ],
   "source": [
    "data_path = './agnews/'\n",
    "batch_size = 32\n",
    "device_name = 'cuda'\n",
    "nb_epochs = 5\n",
    "log_interval = 250\n",
    "lr = 1e-3\n",
    "nb_epochs = 10\n",
    "\n",
    "device = torch.device(device_name)\n",
    "\n",
    "train_loader, valid_loader = get_loaders(\n",
    "    data_path=data_path, \n",
    "    batch_size=batch_size, \n",
    "    splits=['train', 'valid'],\n",
    ")\n",
    "\n",
    "nb_words = len(train_loader.dataset.vocab)\n",
    "\n",
    "print(\n",
    "    'Train size: ', \n",
    "    len(train_loader.dataset.texts),\n",
    "    len(train_loader.dataset.labels)\n",
    ")\n",
    "print(\n",
    "    'Test size : ', \n",
    "    len(valid_loader.dataset.texts),\n",
    "    len(valid_loader.dataset.labels)\n",
    ")\n",
    "\n",
    "plot_instance(0)\n",
    "plot_instance(5000)\n",
    "plot_instance(1238)\n",
    "plot_instance(8723)\n"
   ]
  },
  {
   "cell_type": "code",
   "execution_count": 13,
   "metadata": {},
   "outputs": [],
   "source": [
    "def average_pooling(instances, lens):\n",
    "    return torch.stack([\n",
    "        text[:l].mean(0) for text, l in zip(instances, lens)\n",
    "    ])\n",
    "\n",
    "\n",
    "class TextLSTM(nn.Module):\n",
    "    def __init__(self, num_embeddings=97585, embedding_dim=100):\n",
    "        '''\n",
    "            num_embeddings: number of words in the dictionary\n",
    "            embedding_dim: size of the word-embedding vector\n",
    "        '''\n",
    "        super(TextLSTM, self).__init__()\n",
    "        self.embedding = nn.Embedding(\n",
    "            num_embeddings=num_embeddings, \n",
    "            embedding_dim=embedding_dim,\n",
    "        )\n",
    "        self.rnn = nn.LSTM(\n",
    "            input_size=100, hidden_size=32, \n",
    "            batch_first=True, bidirectional=True,\n",
    "        )\n",
    "        self.fc = nn.Linear(32*2, 4)\n",
    "        \n",
    "    def forward(self, x, lengths):\n",
    "        # Transforma índices das palavras em vetores \n",
    "        x = self.embedding(x)\n",
    "        # Processa vetores das palavras com uma rede recorrente\n",
    "        hidden, output = self.rnn(x)\n",
    "        # Faz a média das ativações de todas as iterações recorrentes\n",
    "        vector = average_pooling(hidden, lengths)\n",
    "        # Camada linear para classificacao\n",
    "        x = self.fc(vector)\n",
    "        return x\n"
   ]
  },
  {
   "cell_type": "code",
   "execution_count": 14,
   "metadata": {},
   "outputs": [
    {
     "name": "stdout",
     "output_type": "stream",
     "text": [
      "Passed\n"
     ]
    }
   ],
   "source": [
    "model = TextLSTM()\n",
    "model = model.to(device)\n",
    "\n",
    "dummy_pred = check_input(model, device)"
   ]
  },
  {
   "cell_type": "code",
   "execution_count": 15,
   "metadata": {},
   "outputs": [],
   "source": [
    "optimizer = torch.optim.Adam(model.parameters(), lr=lr)\n",
    "lr_scheduler = torch.optim.lr_scheduler.StepLR(optimizer, step_size=3,)"
   ]
  },
  {
   "cell_type": "code",
   "execution_count": 16,
   "metadata": {
    "scrolled": false
   },
   "outputs": [
    {
     "name": "stdout",
     "output_type": "stream",
     "text": [
      "\n",
      "* * * Training * * *\n",
      "Train Epoch:   1 [     0/112400 (0%)]\tLoss: 1.406300\n",
      "Train Epoch:   1 [  3200/112400 (3%)]\tLoss: 1.286977\n",
      "Train Epoch:   1 [  6400/112400 (6%)]\tLoss: 0.870774\n",
      "Train Epoch:   1 [  9600/112400 (9%)]\tLoss: 0.807858\n",
      "Train Epoch:   1 [ 12800/112400 (11%)]\tLoss: 0.675487\n",
      "Train Epoch:   1 [ 16000/112400 (14%)]\tLoss: 0.400360\n",
      "Train Epoch:   1 [ 19200/112400 (17%)]\tLoss: 0.405062\n",
      "Train Epoch:   1 [ 22400/112400 (20%)]\tLoss: 0.305554\n",
      "Train Epoch:   1 [ 25600/112400 (23%)]\tLoss: 0.290201\n",
      "Train Epoch:   1 [ 28800/112400 (26%)]\tLoss: 0.213719\n",
      "Train Epoch:   1 [ 32000/112400 (28%)]\tLoss: 0.387615\n",
      "Train Epoch:   1 [ 35200/112400 (31%)]\tLoss: 0.685348\n",
      "Train Epoch:   1 [ 38400/112400 (34%)]\tLoss: 0.560981\n",
      "Train Epoch:   1 [ 41600/112400 (37%)]\tLoss: 0.396611\n",
      "Train Epoch:   1 [ 44800/112400 (40%)]\tLoss: 0.423703\n",
      "Train Epoch:   1 [ 48000/112400 (43%)]\tLoss: 0.203353\n",
      "Train Epoch:   1 [ 51200/112400 (46%)]\tLoss: 0.562120\n",
      "Train Epoch:   1 [ 54400/112400 (48%)]\tLoss: 0.245516\n",
      "Train Epoch:   1 [ 57600/112400 (51%)]\tLoss: 0.227770\n",
      "Train Epoch:   1 [ 60800/112400 (54%)]\tLoss: 0.451845\n",
      "Train Epoch:   1 [ 64000/112400 (57%)]\tLoss: 0.434319\n",
      "Train Epoch:   1 [ 67200/112400 (60%)]\tLoss: 0.459447\n",
      "Train Epoch:   1 [ 70400/112400 (63%)]\tLoss: 0.376668\n",
      "Train Epoch:   1 [ 73600/112400 (65%)]\tLoss: 0.309971\n",
      "Train Epoch:   1 [ 76800/112400 (68%)]\tLoss: 0.294913\n",
      "Train Epoch:   1 [ 80000/112400 (71%)]\tLoss: 0.376155\n",
      "Train Epoch:   1 [ 83200/112400 (74%)]\tLoss: 0.189128\n",
      "Train Epoch:   1 [ 86400/112400 (77%)]\tLoss: 0.464770\n",
      "Train Epoch:   1 [ 89600/112400 (80%)]\tLoss: 0.221641\n",
      "Train Epoch:   1 [ 92800/112400 (83%)]\tLoss: 0.457919\n",
      "Train Epoch:   1 [ 96000/112400 (85%)]\tLoss: 0.181011\n",
      "Train Epoch:   1 [ 99200/112400 (88%)]\tLoss: 0.475367\n",
      "Train Epoch:   1 [102400/112400 (91%)]\tLoss: 0.307902\n",
      "Train Epoch:   1 [105600/112400 (94%)]\tLoss: 0.151856\n",
      "Train Epoch:   1 [108800/112400 (97%)]\tLoss: 0.316848\n",
      "Train Epoch:   1 [112000/112400 (100%)]\tLoss: 0.273542\n",
      "\n",
      "* * * Evaluating * * *\n",
      "Test set: Average loss: 0.0089, Accuracy: 6855/7600 (90.20%)\n",
      "\n",
      "\n",
      "* * * Training * * *\n",
      "Train Epoch:   2 [     0/112400 (0%)]\tLoss: 0.312834\n",
      "Train Epoch:   2 [  3200/112400 (3%)]\tLoss: 0.101715\n",
      "Train Epoch:   2 [  6400/112400 (6%)]\tLoss: 0.207686\n",
      "Train Epoch:   2 [  9600/112400 (9%)]\tLoss: 0.163133\n",
      "Train Epoch:   2 [ 12800/112400 (11%)]\tLoss: 0.173296\n",
      "Train Epoch:   2 [ 16000/112400 (14%)]\tLoss: 0.133243\n",
      "Train Epoch:   2 [ 19200/112400 (17%)]\tLoss: 0.334681\n",
      "Train Epoch:   2 [ 22400/112400 (20%)]\tLoss: 0.273088\n",
      "Train Epoch:   2 [ 25600/112400 (23%)]\tLoss: 0.195039\n",
      "Train Epoch:   2 [ 28800/112400 (26%)]\tLoss: 0.129976\n",
      "Train Epoch:   2 [ 32000/112400 (28%)]\tLoss: 0.364025\n",
      "Train Epoch:   2 [ 35200/112400 (31%)]\tLoss: 0.097724\n",
      "Train Epoch:   2 [ 38400/112400 (34%)]\tLoss: 0.527222\n",
      "Train Epoch:   2 [ 41600/112400 (37%)]\tLoss: 0.376482\n",
      "Train Epoch:   2 [ 44800/112400 (40%)]\tLoss: 0.297595\n",
      "Train Epoch:   2 [ 48000/112400 (43%)]\tLoss: 0.245938\n",
      "Train Epoch:   2 [ 51200/112400 (46%)]\tLoss: 0.206635\n",
      "Train Epoch:   2 [ 54400/112400 (48%)]\tLoss: 0.157018\n",
      "Train Epoch:   2 [ 57600/112400 (51%)]\tLoss: 0.097916\n",
      "Train Epoch:   2 [ 60800/112400 (54%)]\tLoss: 0.294713\n",
      "Train Epoch:   2 [ 64000/112400 (57%)]\tLoss: 0.213955\n",
      "Train Epoch:   2 [ 67200/112400 (60%)]\tLoss: 0.351829\n",
      "Train Epoch:   2 [ 70400/112400 (63%)]\tLoss: 0.184457\n",
      "Train Epoch:   2 [ 73600/112400 (65%)]\tLoss: 0.270220\n",
      "Train Epoch:   2 [ 76800/112400 (68%)]\tLoss: 0.186666\n",
      "Train Epoch:   2 [ 80000/112400 (71%)]\tLoss: 0.173559\n",
      "Train Epoch:   2 [ 83200/112400 (74%)]\tLoss: 0.210384\n",
      "Train Epoch:   2 [ 86400/112400 (77%)]\tLoss: 0.133012\n",
      "Train Epoch:   2 [ 89600/112400 (80%)]\tLoss: 0.285460\n",
      "Train Epoch:   2 [ 92800/112400 (83%)]\tLoss: 0.225398\n",
      "Train Epoch:   2 [ 96000/112400 (85%)]\tLoss: 0.370562\n",
      "Train Epoch:   2 [ 99200/112400 (88%)]\tLoss: 0.194908\n",
      "Train Epoch:   2 [102400/112400 (91%)]\tLoss: 0.091919\n",
      "Train Epoch:   2 [105600/112400 (94%)]\tLoss: 0.349030\n",
      "Train Epoch:   2 [108800/112400 (97%)]\tLoss: 0.072505\n",
      "Train Epoch:   2 [112000/112400 (100%)]\tLoss: 0.205142\n",
      "\n",
      "* * * Evaluating * * *\n",
      "Test set: Average loss: 0.0077, Accuracy: 6962/7600 (91.61%)\n",
      "\n",
      "\n",
      "* * * Training * * *\n",
      "Train Epoch:   3 [     0/112400 (0%)]\tLoss: 0.165051\n",
      "Train Epoch:   3 [  3200/112400 (3%)]\tLoss: 0.243370\n",
      "Train Epoch:   3 [  6400/112400 (6%)]\tLoss: 0.450111\n",
      "Train Epoch:   3 [  9600/112400 (9%)]\tLoss: 0.315113\n",
      "Train Epoch:   3 [ 12800/112400 (11%)]\tLoss: 0.102546\n",
      "Train Epoch:   3 [ 16000/112400 (14%)]\tLoss: 0.104112\n",
      "Train Epoch:   3 [ 19200/112400 (17%)]\tLoss: 0.264786\n",
      "Train Epoch:   3 [ 22400/112400 (20%)]\tLoss: 0.109067\n",
      "Train Epoch:   3 [ 25600/112400 (23%)]\tLoss: 0.110501\n",
      "Train Epoch:   3 [ 28800/112400 (26%)]\tLoss: 0.124718\n",
      "Train Epoch:   3 [ 32000/112400 (28%)]\tLoss: 0.160341\n",
      "Train Epoch:   3 [ 35200/112400 (31%)]\tLoss: 0.299935\n",
      "Train Epoch:   3 [ 38400/112400 (34%)]\tLoss: 0.199094\n",
      "Train Epoch:   3 [ 41600/112400 (37%)]\tLoss: 0.103504\n",
      "Train Epoch:   3 [ 44800/112400 (40%)]\tLoss: 0.318180\n",
      "Train Epoch:   3 [ 48000/112400 (43%)]\tLoss: 0.207283\n",
      "Train Epoch:   3 [ 51200/112400 (46%)]\tLoss: 0.270580\n",
      "Train Epoch:   3 [ 54400/112400 (48%)]\tLoss: 0.060938\n",
      "Train Epoch:   3 [ 57600/112400 (51%)]\tLoss: 0.239776\n",
      "Train Epoch:   3 [ 60800/112400 (54%)]\tLoss: 0.097988\n",
      "Train Epoch:   3 [ 64000/112400 (57%)]\tLoss: 0.159374\n",
      "Train Epoch:   3 [ 67200/112400 (60%)]\tLoss: 0.058909\n",
      "Train Epoch:   3 [ 70400/112400 (63%)]\tLoss: 0.165345\n",
      "Train Epoch:   3 [ 73600/112400 (65%)]\tLoss: 0.231052\n",
      "Train Epoch:   3 [ 76800/112400 (68%)]\tLoss: 0.139789\n",
      "Train Epoch:   3 [ 80000/112400 (71%)]\tLoss: 0.189862\n",
      "Train Epoch:   3 [ 83200/112400 (74%)]\tLoss: 0.087470\n",
      "Train Epoch:   3 [ 86400/112400 (77%)]\tLoss: 0.143689\n",
      "Train Epoch:   3 [ 89600/112400 (80%)]\tLoss: 0.180825\n",
      "Train Epoch:   3 [ 92800/112400 (83%)]\tLoss: 0.238770\n",
      "Train Epoch:   3 [ 96000/112400 (85%)]\tLoss: 0.135326\n",
      "Train Epoch:   3 [ 99200/112400 (88%)]\tLoss: 0.119906\n",
      "Train Epoch:   3 [102400/112400 (91%)]\tLoss: 0.213722\n",
      "Train Epoch:   3 [105600/112400 (94%)]\tLoss: 0.026417\n",
      "Train Epoch:   3 [108800/112400 (97%)]\tLoss: 0.055495\n",
      "Train Epoch:   3 [112000/112400 (100%)]\tLoss: 0.274933\n",
      "\n",
      "* * * Evaluating * * *\n",
      "Test set: Average loss: 0.0074, Accuracy: 6999/7600 (92.09%)\n",
      "\n",
      "\n",
      "* * * Training * * *\n",
      "Train Epoch:   4 [     0/112400 (0%)]\tLoss: 0.071789\n",
      "Train Epoch:   4 [  3200/112400 (3%)]\tLoss: 0.116373\n",
      "Train Epoch:   4 [  6400/112400 (6%)]\tLoss: 0.116378\n",
      "Train Epoch:   4 [  9600/112400 (9%)]\tLoss: 0.103193\n",
      "Train Epoch:   4 [ 12800/112400 (11%)]\tLoss: 0.085079\n",
      "Train Epoch:   4 [ 16000/112400 (14%)]\tLoss: 0.113684\n",
      "Train Epoch:   4 [ 19200/112400 (17%)]\tLoss: 0.152478\n",
      "Train Epoch:   4 [ 22400/112400 (20%)]\tLoss: 0.114050\n",
      "Train Epoch:   4 [ 25600/112400 (23%)]\tLoss: 0.126738\n",
      "Train Epoch:   4 [ 28800/112400 (26%)]\tLoss: 0.082388\n",
      "Train Epoch:   4 [ 32000/112400 (28%)]\tLoss: 0.293932\n",
      "Train Epoch:   4 [ 35200/112400 (31%)]\tLoss: 0.488506\n",
      "Train Epoch:   4 [ 38400/112400 (34%)]\tLoss: 0.127762\n",
      "Train Epoch:   4 [ 41600/112400 (37%)]\tLoss: 0.138753\n",
      "Train Epoch:   4 [ 44800/112400 (40%)]\tLoss: 0.218783\n",
      "Train Epoch:   4 [ 48000/112400 (43%)]\tLoss: 0.145206\n",
      "Train Epoch:   4 [ 51200/112400 (46%)]\tLoss: 0.261909\n",
      "Train Epoch:   4 [ 54400/112400 (48%)]\tLoss: 0.271892\n",
      "Train Epoch:   4 [ 57600/112400 (51%)]\tLoss: 0.116148\n",
      "Train Epoch:   4 [ 60800/112400 (54%)]\tLoss: 0.392611\n",
      "Train Epoch:   4 [ 64000/112400 (57%)]\tLoss: 0.081366\n",
      "Train Epoch:   4 [ 67200/112400 (60%)]\tLoss: 0.088810\n",
      "Train Epoch:   4 [ 70400/112400 (63%)]\tLoss: 0.233557\n",
      "Train Epoch:   4 [ 73600/112400 (65%)]\tLoss: 0.209075\n",
      "Train Epoch:   4 [ 76800/112400 (68%)]\tLoss: 0.104767\n",
      "Train Epoch:   4 [ 80000/112400 (71%)]\tLoss: 0.408238\n",
      "Train Epoch:   4 [ 83200/112400 (74%)]\tLoss: 0.109873\n",
      "Train Epoch:   4 [ 86400/112400 (77%)]\tLoss: 0.091549\n",
      "Train Epoch:   4 [ 89600/112400 (80%)]\tLoss: 0.056339\n",
      "Train Epoch:   4 [ 92800/112400 (83%)]\tLoss: 0.113325\n",
      "Train Epoch:   4 [ 96000/112400 (85%)]\tLoss: 0.430010\n",
      "Train Epoch:   4 [ 99200/112400 (88%)]\tLoss: 0.021854\n",
      "Train Epoch:   4 [102400/112400 (91%)]\tLoss: 0.139961\n",
      "Train Epoch:   4 [105600/112400 (94%)]\tLoss: 0.026950\n",
      "Train Epoch:   4 [108800/112400 (97%)]\tLoss: 0.085651\n",
      "Train Epoch:   4 [112000/112400 (100%)]\tLoss: 0.128693\n",
      "\n",
      "* * * Evaluating * * *\n",
      "Test set: Average loss: 0.0076, Accuracy: 7007/7600 (92.20%)\n",
      "\n",
      "\n",
      "* * * Training * * *\n"
     ]
    },
    {
     "name": "stdout",
     "output_type": "stream",
     "text": [
      "Train Epoch:   5 [     0/112400 (0%)]\tLoss: 0.036633\n",
      "Train Epoch:   5 [  3200/112400 (3%)]\tLoss: 0.156519\n",
      "Train Epoch:   5 [  6400/112400 (6%)]\tLoss: 0.225281\n",
      "Train Epoch:   5 [  9600/112400 (9%)]\tLoss: 0.134121\n",
      "Train Epoch:   5 [ 12800/112400 (11%)]\tLoss: 0.135467\n",
      "Train Epoch:   5 [ 16000/112400 (14%)]\tLoss: 0.102825\n",
      "Train Epoch:   5 [ 19200/112400 (17%)]\tLoss: 0.048322\n",
      "Train Epoch:   5 [ 22400/112400 (20%)]\tLoss: 0.220578\n",
      "Train Epoch:   5 [ 25600/112400 (23%)]\tLoss: 0.366287\n",
      "Train Epoch:   5 [ 28800/112400 (26%)]\tLoss: 0.253965\n",
      "Train Epoch:   5 [ 32000/112400 (28%)]\tLoss: 0.198998\n",
      "Train Epoch:   5 [ 35200/112400 (31%)]\tLoss: 0.172625\n",
      "Train Epoch:   5 [ 38400/112400 (34%)]\tLoss: 0.027936\n",
      "Train Epoch:   5 [ 41600/112400 (37%)]\tLoss: 0.024021\n",
      "Train Epoch:   5 [ 44800/112400 (40%)]\tLoss: 0.127496\n",
      "Train Epoch:   5 [ 48000/112400 (43%)]\tLoss: 0.166297\n",
      "Train Epoch:   5 [ 51200/112400 (46%)]\tLoss: 0.219361\n",
      "Train Epoch:   5 [ 54400/112400 (48%)]\tLoss: 0.079055\n",
      "Train Epoch:   5 [ 57600/112400 (51%)]\tLoss: 0.136112\n",
      "Train Epoch:   5 [ 60800/112400 (54%)]\tLoss: 0.204100\n",
      "Train Epoch:   5 [ 64000/112400 (57%)]\tLoss: 0.073488\n",
      "Train Epoch:   5 [ 67200/112400 (60%)]\tLoss: 0.040446\n",
      "Train Epoch:   5 [ 70400/112400 (63%)]\tLoss: 0.042314\n",
      "Train Epoch:   5 [ 73600/112400 (65%)]\tLoss: 0.049655\n",
      "Train Epoch:   5 [ 76800/112400 (68%)]\tLoss: 0.084690\n",
      "Train Epoch:   5 [ 80000/112400 (71%)]\tLoss: 0.136888\n",
      "Train Epoch:   5 [ 83200/112400 (74%)]\tLoss: 0.037318\n",
      "Train Epoch:   5 [ 86400/112400 (77%)]\tLoss: 0.045290\n",
      "Train Epoch:   5 [ 89600/112400 (80%)]\tLoss: 0.054204\n",
      "Train Epoch:   5 [ 92800/112400 (83%)]\tLoss: 0.107070\n",
      "Train Epoch:   5 [ 96000/112400 (85%)]\tLoss: 0.135010\n",
      "Train Epoch:   5 [ 99200/112400 (88%)]\tLoss: 0.174637\n",
      "Train Epoch:   5 [102400/112400 (91%)]\tLoss: 0.098825\n",
      "Train Epoch:   5 [105600/112400 (94%)]\tLoss: 0.027204\n",
      "Train Epoch:   5 [108800/112400 (97%)]\tLoss: 0.033852\n",
      "Train Epoch:   5 [112000/112400 (100%)]\tLoss: 0.034076\n",
      "\n",
      "* * * Evaluating * * *\n",
      "Test set: Average loss: 0.0077, Accuracy: 7001/7600 (92.12%)\n",
      "\n",
      "\n",
      "* * * Training * * *\n",
      "Train Epoch:   6 [     0/112400 (0%)]\tLoss: 0.097540\n",
      "Train Epoch:   6 [  3200/112400 (3%)]\tLoss: 0.357570\n",
      "Train Epoch:   6 [  6400/112400 (6%)]\tLoss: 0.078392\n",
      "Train Epoch:   6 [  9600/112400 (9%)]\tLoss: 0.084172\n",
      "Train Epoch:   6 [ 12800/112400 (11%)]\tLoss: 0.288577\n",
      "Train Epoch:   6 [ 16000/112400 (14%)]\tLoss: 0.054443\n",
      "Train Epoch:   6 [ 19200/112400 (17%)]\tLoss: 0.107843\n",
      "Train Epoch:   6 [ 22400/112400 (20%)]\tLoss: 0.028609\n",
      "Train Epoch:   6 [ 25600/112400 (23%)]\tLoss: 0.042330\n",
      "Train Epoch:   6 [ 28800/112400 (26%)]\tLoss: 0.047102\n",
      "Train Epoch:   6 [ 32000/112400 (28%)]\tLoss: 0.384634\n",
      "Train Epoch:   6 [ 35200/112400 (31%)]\tLoss: 0.068811\n",
      "Train Epoch:   6 [ 38400/112400 (34%)]\tLoss: 0.024689\n",
      "Train Epoch:   6 [ 41600/112400 (37%)]\tLoss: 0.050559\n",
      "Train Epoch:   6 [ 44800/112400 (40%)]\tLoss: 0.158642\n",
      "Train Epoch:   6 [ 48000/112400 (43%)]\tLoss: 0.042432\n",
      "Train Epoch:   6 [ 51200/112400 (46%)]\tLoss: 0.118234\n",
      "Train Epoch:   6 [ 54400/112400 (48%)]\tLoss: 0.052383\n",
      "Train Epoch:   6 [ 57600/112400 (51%)]\tLoss: 0.027672\n",
      "Train Epoch:   6 [ 60800/112400 (54%)]\tLoss: 0.057340\n",
      "Train Epoch:   6 [ 64000/112400 (57%)]\tLoss: 0.042315\n",
      "Train Epoch:   6 [ 67200/112400 (60%)]\tLoss: 0.021959\n",
      "Train Epoch:   6 [ 70400/112400 (63%)]\tLoss: 0.040297\n",
      "Train Epoch:   6 [ 73600/112400 (65%)]\tLoss: 0.128035\n",
      "Train Epoch:   6 [ 76800/112400 (68%)]\tLoss: 0.075773\n",
      "Train Epoch:   6 [ 80000/112400 (71%)]\tLoss: 0.079129\n",
      "Train Epoch:   6 [ 83200/112400 (74%)]\tLoss: 0.275478\n",
      "Train Epoch:   6 [ 86400/112400 (77%)]\tLoss: 0.072254\n",
      "Train Epoch:   6 [ 89600/112400 (80%)]\tLoss: 0.023830\n",
      "Train Epoch:   6 [ 92800/112400 (83%)]\tLoss: 0.552566\n",
      "Train Epoch:   6 [ 96000/112400 (85%)]\tLoss: 0.197799\n",
      "Train Epoch:   6 [ 99200/112400 (88%)]\tLoss: 0.012627\n",
      "Train Epoch:   6 [102400/112400 (91%)]\tLoss: 0.085868\n",
      "Train Epoch:   6 [105600/112400 (94%)]\tLoss: 0.080831\n",
      "Train Epoch:   6 [108800/112400 (97%)]\tLoss: 0.159400\n",
      "Train Epoch:   6 [112000/112400 (100%)]\tLoss: 0.133248\n",
      "\n",
      "* * * Evaluating * * *\n",
      "Test set: Average loss: 0.0078, Accuracy: 6994/7600 (92.03%)\n",
      "\n",
      "\n",
      "* * * Training * * *\n",
      "Train Epoch:   7 [     0/112400 (0%)]\tLoss: 0.066137\n",
      "Train Epoch:   7 [  3200/112400 (3%)]\tLoss: 0.061781\n",
      "Train Epoch:   7 [  6400/112400 (6%)]\tLoss: 0.038440\n",
      "Train Epoch:   7 [  9600/112400 (9%)]\tLoss: 0.062157\n",
      "Train Epoch:   7 [ 12800/112400 (11%)]\tLoss: 0.033959\n",
      "Train Epoch:   7 [ 16000/112400 (14%)]\tLoss: 0.058206\n",
      "Train Epoch:   7 [ 19200/112400 (17%)]\tLoss: 0.215200\n",
      "Train Epoch:   7 [ 22400/112400 (20%)]\tLoss: 0.183262\n",
      "Train Epoch:   7 [ 25600/112400 (23%)]\tLoss: 0.157149\n",
      "Train Epoch:   7 [ 28800/112400 (26%)]\tLoss: 0.036680\n",
      "Train Epoch:   7 [ 32000/112400 (28%)]\tLoss: 0.141309\n",
      "Train Epoch:   7 [ 35200/112400 (31%)]\tLoss: 0.065205\n",
      "Train Epoch:   7 [ 38400/112400 (34%)]\tLoss: 0.048045\n",
      "Train Epoch:   7 [ 41600/112400 (37%)]\tLoss: 0.056202\n",
      "Train Epoch:   7 [ 44800/112400 (40%)]\tLoss: 0.030201\n",
      "Train Epoch:   7 [ 48000/112400 (43%)]\tLoss: 0.195497\n",
      "Train Epoch:   7 [ 51200/112400 (46%)]\tLoss: 0.010432\n",
      "Train Epoch:   7 [ 54400/112400 (48%)]\tLoss: 0.134832\n",
      "Train Epoch:   7 [ 57600/112400 (51%)]\tLoss: 0.260179\n",
      "Train Epoch:   7 [ 60800/112400 (54%)]\tLoss: 0.138323\n",
      "Train Epoch:   7 [ 64000/112400 (57%)]\tLoss: 0.097444\n",
      "Train Epoch:   7 [ 67200/112400 (60%)]\tLoss: 0.091503\n",
      "Train Epoch:   7 [ 70400/112400 (63%)]\tLoss: 0.108811\n",
      "Train Epoch:   7 [ 73600/112400 (65%)]\tLoss: 0.118996\n",
      "Train Epoch:   7 [ 76800/112400 (68%)]\tLoss: 0.268486\n",
      "Train Epoch:   7 [ 80000/112400 (71%)]\tLoss: 0.033046\n",
      "Train Epoch:   7 [ 83200/112400 (74%)]\tLoss: 0.150546\n",
      "Train Epoch:   7 [ 86400/112400 (77%)]\tLoss: 0.155941\n",
      "Train Epoch:   7 [ 89600/112400 (80%)]\tLoss: 0.074081\n",
      "Train Epoch:   7 [ 92800/112400 (83%)]\tLoss: 0.154549\n",
      "Train Epoch:   7 [ 96000/112400 (85%)]\tLoss: 0.152853\n",
      "Train Epoch:   7 [ 99200/112400 (88%)]\tLoss: 0.059997\n",
      "Train Epoch:   7 [102400/112400 (91%)]\tLoss: 0.079341\n",
      "Train Epoch:   7 [105600/112400 (94%)]\tLoss: 0.040079\n",
      "Train Epoch:   7 [108800/112400 (97%)]\tLoss: 0.045282\n",
      "Train Epoch:   7 [112000/112400 (100%)]\tLoss: 0.012519\n",
      "\n",
      "* * * Evaluating * * *\n",
      "Test set: Average loss: 0.0079, Accuracy: 6988/7600 (91.95%)\n",
      "\n",
      "\n",
      "* * * Training * * *\n",
      "Train Epoch:   8 [     0/112400 (0%)]\tLoss: 0.184096\n",
      "Train Epoch:   8 [  3200/112400 (3%)]\tLoss: 0.398988\n",
      "Train Epoch:   8 [  6400/112400 (6%)]\tLoss: 0.185331\n",
      "Train Epoch:   8 [  9600/112400 (9%)]\tLoss: 0.227924\n",
      "Train Epoch:   8 [ 12800/112400 (11%)]\tLoss: 0.066241\n",
      "Train Epoch:   8 [ 16000/112400 (14%)]\tLoss: 0.033225\n",
      "Train Epoch:   8 [ 19200/112400 (17%)]\tLoss: 0.043966\n",
      "Train Epoch:   8 [ 22400/112400 (20%)]\tLoss: 0.265808\n",
      "Train Epoch:   8 [ 25600/112400 (23%)]\tLoss: 0.098573\n",
      "Train Epoch:   8 [ 28800/112400 (26%)]\tLoss: 0.071888\n",
      "Train Epoch:   8 [ 32000/112400 (28%)]\tLoss: 0.078347\n",
      "Train Epoch:   8 [ 35200/112400 (31%)]\tLoss: 0.083498\n",
      "Train Epoch:   8 [ 38400/112400 (34%)]\tLoss: 0.103329\n",
      "Train Epoch:   8 [ 41600/112400 (37%)]\tLoss: 0.129669\n",
      "Train Epoch:   8 [ 44800/112400 (40%)]\tLoss: 0.140299\n",
      "Train Epoch:   8 [ 48000/112400 (43%)]\tLoss: 0.077584\n",
      "Train Epoch:   8 [ 51200/112400 (46%)]\tLoss: 0.064742\n",
      "Train Epoch:   8 [ 54400/112400 (48%)]\tLoss: 0.130695\n",
      "Train Epoch:   8 [ 57600/112400 (51%)]\tLoss: 0.048391\n",
      "Train Epoch:   8 [ 60800/112400 (54%)]\tLoss: 0.106897\n",
      "Train Epoch:   8 [ 64000/112400 (57%)]\tLoss: 0.047611\n",
      "Train Epoch:   8 [ 67200/112400 (60%)]\tLoss: 0.088899\n",
      "Train Epoch:   8 [ 70400/112400 (63%)]\tLoss: 0.025335\n",
      "Train Epoch:   8 [ 73600/112400 (65%)]\tLoss: 0.366724\n",
      "Train Epoch:   8 [ 76800/112400 (68%)]\tLoss: 0.162121\n",
      "Train Epoch:   8 [ 80000/112400 (71%)]\tLoss: 0.092771\n",
      "Train Epoch:   8 [ 83200/112400 (74%)]\tLoss: 0.016782\n",
      "Train Epoch:   8 [ 86400/112400 (77%)]\tLoss: 0.138552\n",
      "Train Epoch:   8 [ 89600/112400 (80%)]\tLoss: 0.069715\n",
      "Train Epoch:   8 [ 92800/112400 (83%)]\tLoss: 0.150242\n",
      "Train Epoch:   8 [ 96000/112400 (85%)]\tLoss: 0.138485\n",
      "Train Epoch:   8 [ 99200/112400 (88%)]\tLoss: 0.052775\n",
      "Train Epoch:   8 [102400/112400 (91%)]\tLoss: 0.084266\n",
      "Train Epoch:   8 [105600/112400 (94%)]\tLoss: 0.179985\n",
      "Train Epoch:   8 [108800/112400 (97%)]\tLoss: 0.046519\n",
      "Train Epoch:   8 [112000/112400 (100%)]\tLoss: 0.079501\n",
      "\n",
      "* * * Evaluating * * *\n",
      "Test set: Average loss: 0.0079, Accuracy: 6992/7600 (92.00%)\n",
      "\n",
      "\n",
      "* * * Training * * *\n"
     ]
    },
    {
     "name": "stdout",
     "output_type": "stream",
     "text": [
      "Train Epoch:   9 [     0/112400 (0%)]\tLoss: 0.089029\n",
      "Train Epoch:   9 [  3200/112400 (3%)]\tLoss: 0.154631\n",
      "Train Epoch:   9 [  6400/112400 (6%)]\tLoss: 0.056881\n",
      "Train Epoch:   9 [  9600/112400 (9%)]\tLoss: 0.081343\n",
      "Train Epoch:   9 [ 12800/112400 (11%)]\tLoss: 0.042936\n",
      "Train Epoch:   9 [ 16000/112400 (14%)]\tLoss: 0.111349\n",
      "Train Epoch:   9 [ 19200/112400 (17%)]\tLoss: 0.076311\n",
      "Train Epoch:   9 [ 22400/112400 (20%)]\tLoss: 0.221347\n",
      "Train Epoch:   9 [ 25600/112400 (23%)]\tLoss: 0.108474\n",
      "Train Epoch:   9 [ 28800/112400 (26%)]\tLoss: 0.108310\n",
      "Train Epoch:   9 [ 32000/112400 (28%)]\tLoss: 0.112261\n",
      "Train Epoch:   9 [ 35200/112400 (31%)]\tLoss: 0.038013\n",
      "Train Epoch:   9 [ 38400/112400 (34%)]\tLoss: 0.015531\n",
      "Train Epoch:   9 [ 41600/112400 (37%)]\tLoss: 0.203098\n",
      "Train Epoch:   9 [ 44800/112400 (40%)]\tLoss: 0.053251\n",
      "Train Epoch:   9 [ 48000/112400 (43%)]\tLoss: 0.044552\n",
      "Train Epoch:   9 [ 51200/112400 (46%)]\tLoss: 0.115233\n",
      "Train Epoch:   9 [ 54400/112400 (48%)]\tLoss: 0.238235\n",
      "Train Epoch:   9 [ 57600/112400 (51%)]\tLoss: 0.123121\n",
      "Train Epoch:   9 [ 60800/112400 (54%)]\tLoss: 0.153948\n",
      "Train Epoch:   9 [ 64000/112400 (57%)]\tLoss: 0.066802\n",
      "Train Epoch:   9 [ 67200/112400 (60%)]\tLoss: 0.130620\n",
      "Train Epoch:   9 [ 70400/112400 (63%)]\tLoss: 0.059761\n",
      "Train Epoch:   9 [ 73600/112400 (65%)]\tLoss: 0.051783\n",
      "Train Epoch:   9 [ 76800/112400 (68%)]\tLoss: 0.021433\n",
      "Train Epoch:   9 [ 80000/112400 (71%)]\tLoss: 0.113242\n",
      "Train Epoch:   9 [ 83200/112400 (74%)]\tLoss: 0.283029\n",
      "Train Epoch:   9 [ 86400/112400 (77%)]\tLoss: 0.012690\n",
      "Train Epoch:   9 [ 89600/112400 (80%)]\tLoss: 0.119662\n",
      "Train Epoch:   9 [ 92800/112400 (83%)]\tLoss: 0.046203\n",
      "Train Epoch:   9 [ 96000/112400 (85%)]\tLoss: 0.059953\n",
      "Train Epoch:   9 [ 99200/112400 (88%)]\tLoss: 0.053056\n",
      "Train Epoch:   9 [102400/112400 (91%)]\tLoss: 0.099909\n",
      "Train Epoch:   9 [105600/112400 (94%)]\tLoss: 0.050076\n",
      "Train Epoch:   9 [108800/112400 (97%)]\tLoss: 0.045041\n",
      "Train Epoch:   9 [112000/112400 (100%)]\tLoss: 0.081449\n",
      "\n",
      "* * * Evaluating * * *\n",
      "Test set: Average loss: 0.0080, Accuracy: 6989/7600 (91.96%)\n",
      "\n",
      "\n",
      "* * * Training * * *\n",
      "Train Epoch:  10 [     0/112400 (0%)]\tLoss: 0.071114\n",
      "Train Epoch:  10 [  3200/112400 (3%)]\tLoss: 0.278925\n",
      "Train Epoch:  10 [  6400/112400 (6%)]\tLoss: 0.029164\n",
      "Train Epoch:  10 [  9600/112400 (9%)]\tLoss: 0.098238\n",
      "Train Epoch:  10 [ 12800/112400 (11%)]\tLoss: 0.014921\n",
      "Train Epoch:  10 [ 16000/112400 (14%)]\tLoss: 0.036726\n",
      "Train Epoch:  10 [ 19200/112400 (17%)]\tLoss: 0.041527\n",
      "Train Epoch:  10 [ 22400/112400 (20%)]\tLoss: 0.042215\n",
      "Train Epoch:  10 [ 25600/112400 (23%)]\tLoss: 0.024018\n",
      "Train Epoch:  10 [ 28800/112400 (26%)]\tLoss: 0.180143\n",
      "Train Epoch:  10 [ 32000/112400 (28%)]\tLoss: 0.147919\n",
      "Train Epoch:  10 [ 35200/112400 (31%)]\tLoss: 0.073030\n",
      "Train Epoch:  10 [ 38400/112400 (34%)]\tLoss: 0.126058\n",
      "Train Epoch:  10 [ 41600/112400 (37%)]\tLoss: 0.025890\n",
      "Train Epoch:  10 [ 44800/112400 (40%)]\tLoss: 0.137169\n",
      "Train Epoch:  10 [ 48000/112400 (43%)]\tLoss: 0.102836\n",
      "Train Epoch:  10 [ 51200/112400 (46%)]\tLoss: 0.085864\n",
      "Train Epoch:  10 [ 54400/112400 (48%)]\tLoss: 0.126552\n",
      "Train Epoch:  10 [ 57600/112400 (51%)]\tLoss: 0.058902\n",
      "Train Epoch:  10 [ 60800/112400 (54%)]\tLoss: 0.094711\n",
      "Train Epoch:  10 [ 64000/112400 (57%)]\tLoss: 0.087342\n",
      "Train Epoch:  10 [ 67200/112400 (60%)]\tLoss: 0.025596\n",
      "Train Epoch:  10 [ 70400/112400 (63%)]\tLoss: 0.088161\n",
      "Train Epoch:  10 [ 73600/112400 (65%)]\tLoss: 0.053549\n",
      "Train Epoch:  10 [ 76800/112400 (68%)]\tLoss: 0.127183\n",
      "Train Epoch:  10 [ 80000/112400 (71%)]\tLoss: 0.051880\n",
      "Train Epoch:  10 [ 83200/112400 (74%)]\tLoss: 0.206149\n",
      "Train Epoch:  10 [ 86400/112400 (77%)]\tLoss: 0.199085\n",
      "Train Epoch:  10 [ 89600/112400 (80%)]\tLoss: 0.069781\n",
      "Train Epoch:  10 [ 92800/112400 (83%)]\tLoss: 0.096066\n",
      "Train Epoch:  10 [ 96000/112400 (85%)]\tLoss: 0.083686\n",
      "Train Epoch:  10 [ 99200/112400 (88%)]\tLoss: 0.216395\n",
      "Train Epoch:  10 [102400/112400 (91%)]\tLoss: 0.074719\n",
      "Train Epoch:  10 [105600/112400 (94%)]\tLoss: 0.018501\n",
      "Train Epoch:  10 [108800/112400 (97%)]\tLoss: 0.020334\n",
      "Train Epoch:  10 [112000/112400 (100%)]\tLoss: 0.226920\n",
      "\n",
      "* * * Evaluating * * *\n",
      "Test set: Average loss: 0.0080, Accuracy: 6989/7600 (91.96%)\n",
      "\n"
     ]
    }
   ],
   "source": [
    "history = train(\n",
    "    model=model, train_loader=train_loader, \n",
    "    test_loader=valid_loader, device=device, optimizer=optimizer, \n",
    "    lr_scheduler=lr_scheduler, nb_epochs=nb_epochs,\n",
    "    log_interval=100\n",
    ")"
   ]
  },
  {
   "cell_type": "code",
   "execution_count": 17,
   "metadata": {},
   "outputs": [
    {
     "name": "stdout",
     "output_type": "stream",
     "text": [
      "Max val acc: 92.20%\n"
     ]
    }
   ],
   "source": [
    "print('Max val acc: {:.2f}%'.format(max(history['val_acc'])))"
   ]
  },
  {
   "cell_type": "code",
   "execution_count": 18,
   "metadata": {},
   "outputs": [
    {
     "data": {
      "text/plain": [
       "[<matplotlib.lines.Line2D at 0x7f6a17d29828>]"
      ]
     },
     "execution_count": 18,
     "metadata": {},
     "output_type": "execute_result"
    },
    {
     "data": {
      "image/png": "[encoded data removed]",
      "text/plain": [
       "<Figure size 432x288 with 1 Axes>"
      ]
     },
     "metadata": {
      "needs_background": "light"
     },
     "output_type": "display_data"
    }
   ],
   "source": [
    "plt.plot(history['train_loss'])"
   ]
  },
  {
   "cell_type": "code",
   "execution_count": 19,
   "metadata": {},
   "outputs": [
    {
     "data": {
      "text/plain": [
       "[<matplotlib.lines.Line2D at 0x7f6a1be8bc50>]"
      ]
     },
     "execution_count": 19,
     "metadata": {},
     "output_type": "execute_result"
    },
    {
     "data": {
      "image/png": "[encoded data removed]",
      "text/plain": [
       "<Figure size 432x288 with 1 Axes>"
      ]
     },
     "metadata": {
      "needs_background": "light"
     },
     "output_type": "display_data"
    }
   ],
   "source": [
    "plt.plot(history['val_acc'])"
   ]
  },
  {
   "cell_type": "code",
   "execution_count": 20,
   "metadata": {},
   "outputs": [],
   "source": [
    "test_loader = get_loaders(\n",
    "    data_path=data_path, \n",
    "    batch_size=batch_size, \n",
    "    splits=['test'],\n",
    ")[0]"
   ]
  },
  {
   "cell_type": "code",
   "execution_count": 21,
   "metadata": {},
   "outputs": [
    {
     "name": "stdout",
     "output_type": "stream",
     "text": [
      "Test set: Average loss: 0.0090, Accuracy: 6912/7600 (90.95%)\n",
      "\n"
     ]
    },
    {
     "data": {
      "text/plain": [
       "90.94736842105263"
      ]
     },
     "execution_count": 21,
     "metadata": {},
     "output_type": "execute_result"
    }
   ],
   "source": [
    "test(model, device, test_loader)"
   ]
  },
  {
   "cell_type": "markdown",
   "metadata": {},
   "source": [
    "## Implemente uma rede para classificar texto usando convoluções"
   ]
  },
  {
   "cell_type": "code",
   "execution_count": null,
   "metadata": {},
   "outputs": [],
   "source": [
    "class ConvText(nn.Module):\n",
    "    def __init__(self, num_embeddings=97585, embedding_dim=100):\n",
    "        '''\n",
    "            num_embeddings: number of words in the dictionary\n",
    "            embedding_dim: size of the word-embedding vector\n",
    "        '''\n",
    "        super(ConvText, self).__init__()        \n",
    "        \n",
    "    def forward(self, x, lengths):      \n",
    "        return x"
   ]
  },
  {
   "cell_type": "code",
   "execution_count": null,
   "metadata": {},
   "outputs": [],
   "source": [
    "model = ConvText()\n",
    "model = model.to(device)\n",
    "\n",
    "dummy_pred = check_input(model, device)"
   ]
  },
  {
   "cell_type": "code",
   "execution_count": null,
   "metadata": {},
   "outputs": [],
   "source": [
    "optimizer = torch.optim.Adam(model.parameters(), lr=lr)\n",
    "lr_scheduler = torch.optim.lr_scheduler.StepLR(optimizer, step_size=3,)"
   ]
  },
  {
   "cell_type": "code",
   "execution_count": null,
   "metadata": {},
   "outputs": [],
   "source": [
    "history = train(\n",
    "    model=model, train_loader=train_loader, \n",
    "    test_loader=valid_loader, device=device, optimizer=optimizer, \n",
    "    lr_scheduler=lr_scheduler, nb_epochs=nb_epochs,\n",
    "    log_interval=100\n",
    ")"
   ]
  },
  {
   "cell_type": "markdown",
   "metadata": {},
   "source": [
    "## Implemente uma rede para classificar texto que simplesmente faz a média dos embeddings"
   ]
  },
  {
   "cell_type": "code",
   "execution_count": null,
   "metadata": {},
   "outputs": [],
   "source": [
    "class FastText(nn.Module):\n",
    "    def __init__(self, num_embeddings=97585, embedding_dim=100):\n",
    "        '''\n",
    "            num_embeddings: number of words in the dictionary\n",
    "            embedding_dim: size of the word-embedding vector\n",
    "        '''\n",
    "        super(FastText, self).__init__()        \n",
    "        \n",
    "    def forward(self, x, lengths):      \n",
    "        return x"
   ]
  },
  {
   "cell_type": "code",
   "execution_count": null,
   "metadata": {},
   "outputs": [],
   "source": [
    "model = FastText()\n",
    "model = model.to(device)\n",
    "\n",
    "dummy_pred = check_input(model, device)"
   ]
  },
  {
   "cell_type": "code",
   "execution_count": null,
   "metadata": {},
   "outputs": [],
   "source": [
    "optimizer = torch.optim.Adam(model.parameters(), lr=lr)\n",
    "lr_scheduler = torch.optim.lr_scheduler.StepLR(optimizer, step_size=3,)"
   ]
  },
  {
   "cell_type": "code",
   "execution_count": null,
   "metadata": {},
   "outputs": [],
   "source": [
    "history = train(\n",
    "    model=model, train_loader=train_loader, \n",
    "    test_loader=valid_loader, device=device, optimizer=optimizer, \n",
    "    lr_scheduler=lr_scheduler, nb_epochs=nb_epochs,\n",
    "    log_interval=100\n",
    ")"
   ]
  }
 ],
 "metadata": {
  "kernelspec": {
   "display_name": "Python [conda env:.conda-lavse] *",
   "language": "python",
   "name": "conda-env-.conda-lavse-py"
  },
  "language_info": {
   "codemirror_mode": {
    "name": "ipython",
    "version": 3
   },
   "file_extension": ".py",
   "mimetype": "text/x-python",
   "name": "python",
   "nbconvert_exporter": "python",
   "pygments_lexer": "ipython3",
   "version": "3.7.3"
  }
 },
 "nbformat": 4,
 "nbformat_minor": 2
}
